{
  "nbformat": 4,
  "nbformat_minor": 0,
  "metadata": {
    "colab": {
      "provenance": [],
      "authorship_tag": "ABX9TyNat/GLjGLF1Qu7lZKwBsQ9",
      "include_colab_link": true
    },
    "kernelspec": {
      "name": "python3",
      "display_name": "Python 3"
    },
    "language_info": {
      "name": "python"
    }
  },
  "cells": [
    {
      "cell_type": "markdown",
      "metadata": {
        "id": "view-in-github",
        "colab_type": "text"
      },
      "source": [
        "<a href=\"https://colab.research.google.com/github/rishabhraj2265/blank-repository/blob/main/project_1.ipynb\" target=\"_parent\"><img src=\"https://colab.research.google.com/assets/colab-badge.svg\" alt=\"Open In Colab\"/></a>"
      ]
    },
    {
      "cell_type": "markdown",
      "source": [
        "#overview\n",
        "**-** A project to generate **random numbers** have both numeric and alpabets. Then calculate its highest base and plotting in graph"
      ],
      "metadata": {
        "id": "vglRv7eBgB8s"
      }
    },
    {
      "cell_type": "markdown",
      "source": [
        "#Libraries Used\n",
        "The libraries that are used are:-\n",
        "\n",
        "**Random** - for generation of random numbers\n",
        "\n",
        "**Matplotlib** - for plotting graph"
      ],
      "metadata": {
        "id": "K-Gf5-Jmi-Fv"
      }
    },
    {
      "cell_type": "markdown",
      "source": [],
      "metadata": {
        "id": "l5-3Kokjjus3"
      }
    },
    {
      "cell_type": "code",
      "execution_count": 29,
      "metadata": {
        "id": "AYA-jxXqf3PT"
      },
      "outputs": [],
      "source": [
        "#importing matplot library for plotting of graph\n",
        "import matplotlib.pyplot as plt\n",
        "\n",
        "#importing random library for the generation of random numbers\n",
        "import random"
      ]
    },
    {
      "cell_type": "markdown",
      "source": [
        "In the above code we are importing the Libraries random and matplotlib"
      ],
      "metadata": {
        "id": "7YZTVeXHj_3C"
      }
    },
    {
      "cell_type": "code",
      "source": [
        "#empty dictionary\n",
        "mapping_dict=dict()"
      ],
      "metadata": {
        "id": "51fxJzMfkPNZ"
      },
      "execution_count": 30,
      "outputs": []
    },
    {
      "cell_type": "markdown",
      "source": [
        "**\"mapping_dict\"** is a variable of type dictionary which stores numbers from **0-9** and from **10-35** it will store alphabets **A-Z**\n",
        "\n",
        "**.**In the dictionary the values will be\n",
        "\n",
        "\n",
        "stored in the form of key and values. So, the key will be **\"0-35\"** in numeric form and values in the form of string, that is, from **\"0-9 and a-z\"**\n",
        "\n",
        "**->**This code is creating a dictionary 'mapping_dict' where keys are taken from the range 0 to 9, and values are the string representation of the corresponding values from the same range. Here's the breakdown:"
      ],
      "metadata": {
        "id": "5XcFRXiakUWU"
      }
    },
    {
      "cell_type": "code",
      "source": [
        "for key,value in zip(range(0,10),range(0,10)):\n",
        "  mapping_dict[key]=str(value)"
      ],
      "metadata": {
        "id": "wEJtGNyilN72"
      },
      "execution_count": 31,
      "outputs": []
    },
    {
      "cell_type": "markdown",
      "source": [
        "**.** After the loop, mapping_dict will contain pairs where each key is an integer from 0 to 9, and the corresponding value is the string representation of the same integer. For example, the resulting dictionary might look like this:\n",
        "\n",
        "{0: '0', 1: '1', 2: '2', 3: '3', 4: '4', 5: '5', 6: '6', 7: '7', 8: '8', 9: '9'}\n",
        "\n",
        "This is achieved by iterating through the **zip** of two ranges, where **key** takes values from the first range, and **value** takes values from the second range. The values are then converted to strings using **str(value)** before being assigned to the dictionary"
      ],
      "metadata": {
        "id": "LFxONYr7lPGv"
      }
    },
    {
      "cell_type": "code",
      "source": [
        "\n",
        "for key,value in zip(range(10,36),range(65,91)):\n",
        "  mapping_dict[key]=chr(value)"
      ],
      "metadata": {
        "id": "XahoZYhZl0Eh"
      },
      "execution_count": 32,
      "outputs": []
    },
    {
      "cell_type": "markdown",
      "source": [
        "This code is generating key value pairs where the **key** is from **'10-35'** in numeric form and **values** are their ASCII values form **'65-90'**\n",
        "\n",
        "This is achieved by iterating through the zip of two ranges. **key** takes values from the first range (10 to 35), and **value** takes values from the second range (65 to 90). The values are then converted to their respective 'ASCII values' using **chr(value)** before being assigned to the dictionary.\n",
        "\n",
        "After the loop, mapping_dict will contain pairs where each key is an integer from 10 to 35, and the corresponding value is the character represented by the ASCII value from the range 65 to 90. For example, the resulting dictionary might look like this:\n",
        "\n",
        "{10: 'A', 11: 'B', 12: 'C', 13: 'D', 14: 'E', 15: 'F', 16: 'G', 17: 'H', 18: 'I', 19: 'J', 20: 'K', 21: 'L', 22: 'M', 23: 'N', 24: 'O', 25: 'P', 26: 'Q', 27: 'R', 28: 'S', 29: 'T', 30: 'U', 31: 'V', 32: 'W', 33: 'X', 34: 'Y', 35: 'Z'}"
      ],
      "metadata": {
        "id": "YeLmIVd1l1ar"
      }
    },
    {
      "cell_type": "code",
      "source": [
        "mapping_dict\n",
        ""
      ],
      "metadata": {
        "colab": {
          "base_uri": "https://localhost:8080/"
        },
        "id": "y-keME6wmaGL",
        "outputId": "edd4c4d3-f084-4d5f-832e-4cb781ad132f"
      },
      "execution_count": 33,
      "outputs": [
        {
          "output_type": "execute_result",
          "data": {
            "text/plain": [
              "{0: '0',\n",
              " 1: '1',\n",
              " 2: '2',\n",
              " 3: '3',\n",
              " 4: '4',\n",
              " 5: '5',\n",
              " 6: '6',\n",
              " 7: '7',\n",
              " 8: '8',\n",
              " 9: '9',\n",
              " 10: 'A',\n",
              " 11: 'B',\n",
              " 12: 'C',\n",
              " 13: 'D',\n",
              " 14: 'E',\n",
              " 15: 'F',\n",
              " 16: 'G',\n",
              " 17: 'H',\n",
              " 18: 'I',\n",
              " 19: 'J',\n",
              " 20: 'K',\n",
              " 21: 'L',\n",
              " 22: 'M',\n",
              " 23: 'N',\n",
              " 24: 'O',\n",
              " 25: 'P',\n",
              " 26: 'Q',\n",
              " 27: 'R',\n",
              " 28: 'S',\n",
              " 29: 'T',\n",
              " 30: 'U',\n",
              " 31: 'V',\n",
              " 32: 'W',\n",
              " 33: 'X',\n",
              " 34: 'Y',\n",
              " 35: 'Z'}"
            ]
          },
          "metadata": {},
          "execution_count": 33
        }
      ]
    },
    {
      "cell_type": "markdown",
      "source": [
        "\n",
        "The final Dictionary looks like this:\n",
        "\n",
        "{0: '0', 1: '1', 2: '2', 3: '3', 4: '4', 5: '5', 6: '6', 7: '7', 8: '8', 9: '9', 10: 'A', 11: 'B', 12: 'C', 13: 'D', 14: 'E', 15: 'F', 16: 'G', 17: 'H', 18: 'I', 19: 'J', 20: 'K', 21: 'L', 22: 'M', 23: 'N', 24: 'O', 25: 'P', 26: 'Q', 27: 'R', 28: 'S', 29: 'T', 30: 'U', 31: 'V', 32: 'W', 33: 'X', 34: 'Y', 35: 'Z'}"
      ],
      "metadata": {
        "id": "FSAqIIaLm06q"
      }
    },
    {
      "cell_type": "code",
      "source": [
        "#Creating random number variable\n",
        "random_number = list()"
      ],
      "metadata": {
        "id": "2K1AbJmom0lC"
      },
      "execution_count": 34,
      "outputs": []
    },
    {
      "cell_type": "markdown",
      "source": [
        "This random_number variable of type 'List' is used to store the randomly generated numbers\n"
      ],
      "metadata": {
        "id": "vQfRX4WTm_75"
      }
    },
    {
      "cell_type": "code",
      "source": [
        "sample_size = 100000000\n"
      ],
      "metadata": {
        "id": "YtSz6N6ynFOh"
      },
      "execution_count": 35,
      "outputs": []
    },
    {
      "cell_type": "markdown",
      "source": [
        "**-sample_size**  this variable is used to store how much number of random numbers should be made. This variable is used so that we don't have to change it everywhere and directly use this variable."
      ],
      "metadata": {
        "id": "IPlroCTtnPvv"
      }
    },
    {
      "cell_type": "code",
      "source": [
        "for i in range(0,sample_size):\n",
        "  blank_str=\"\"\n",
        "\n",
        "  random_digit = random.randint(0,35)\n",
        "  blank_str = blank_str + mapping_dict[random_digit]\n",
        "\n",
        "  random_digit = random.randint(0,35)\n",
        "  blank_str = blank_str + mapping_dict[random_digit]\n",
        "\n",
        "  for i in range(0,8):\n",
        "    coin_toss=random.randint(0,1)\n",
        "    if coin_toss==1:\n",
        "      random_digit=random.randint(0,35)\n",
        "      blank_str = blank_str + mapping_dict[random_digit]\n",
        "    else:\n",
        "      break\n",
        "  random_number.append(blank_str)"
      ],
      "metadata": {
        "id": "tHspJqDHnlID"
      },
      "execution_count": 36,
      "outputs": []
    },
    {
      "cell_type": "markdown",
      "source": [
        "#Generation of random numbers\n",
        "\n",
        "This code basically generates random numbers containing both numbers and alphabets.\n",
        "\n",
        "eg:- 'O3R', 'U6N', '664', 'J4'\n",
        "\n",
        "The loop starts its iteration and for each iteration it creates a blank string.\n",
        "\n",
        "Then it generates a random number and assign it to **blank_str** varialbe.\n",
        "\n",
        "for each coin toss when every its true or \"1\" it generates a random number having both numeric and alphabets of atleast 10 digits.\n",
        "\n",
        "Then, each generated random numbers in the **blank_str** is appended to **\"random_number\"** list using \".append()\" function."
      ],
      "metadata": {
        "id": "XZzj6Y5snpJN"
      }
    },
    {
      "cell_type": "code",
      "source": [
        "\n",
        "reverse_dict=dict()\n",
        "for i in mapping_dict.keys():\n",
        "  reverse_dict[mapping_dict[i]]=i"
      ],
      "metadata": {
        "id": "4laGcfsHob6F"
      },
      "execution_count": 37,
      "outputs": []
    },
    {
      "cell_type": "markdown",
      "source": [
        "#Reversing the dictionary\n",
        "\n",
        "Here, we are reversing the dictionary so that we can find the highest base of the random numbers generated in the **random_number** list.\n",
        "\n",
        "**.  reverse_dict**   is a empty dictionary to store the reversed mapping_dict.\n",
        "for every iteration in mapping_dict keys we get the value and i contains the keys\n",
        "\n",
        "for the new reverse dictionary the mapping_dict's values are the key of the reverse dictionary and keys of the mapping_dict are the values of reverse dictionary.\n",
        "\n",
        "#Base_Frequency\n",
        "\n",
        "In this we are finding the highest base of all the random numbers generated and finding its frequency\n",
        "\n",
        "We are finding the highest base of each random number in the **random_number** list with the help of **highest_digit** and storing it into the **highest_base.**\n",
        "\n",
        "Then we are finding the base frequency of each highest bases from \"0-35\" and storing it into the **base_frequency** dictionary"
      ],
      "metadata": {
        "id": "QOxm71Ocno-x"
      }
    },
    {
      "cell_type": "code",
      "source": [
        "base_frequency = dict()"
      ],
      "metadata": {
        "id": "hajQMmsCqMdJ"
      },
      "execution_count": 38,
      "outputs": []
    },
    {
      "cell_type": "markdown",
      "source": [
        "This is the **base_frequency** empty dictionary to store frequency of each highest bases from 0-35."
      ],
      "metadata": {
        "id": "HiAxA8qWqPJn"
      }
    },
    {
      "cell_type": "code",
      "source": [
        "for blank_str in random_number:\n",
        "  highest_digit = max(blank_str)\n",
        "  highest_base = reverse_dict[highest_digit]\n",
        "\n",
        "  if highest_base in base_frequency.keys():\n",
        "    base_frequency[highest_base] += 1\n",
        "  else:\n",
        "    base_frequency[highest_base] = 1"
      ],
      "metadata": {
        "id": "3OId74AcqYia"
      },
      "execution_count": 39,
      "outputs": []
    },
    {
      "cell_type": "markdown",
      "source": [
        "In this we are finding the highest base of each random numbers stored in the **random_number** list using **max()** function and **reverse_dict.**\n",
        "\n",
        "Then we are finding the base frequency that is the count of each bases from \"0-35\"\n",
        "\n",
        "The dictionary looks like:\n",
        "\n",
        "{28: 486, 34: 702, 25: 384, 19: 268, 18: 261, 24: 365, 31: 623, 17: 176, 29: 518, 30: 537, 26: 396, 22: 297, 32: 633, 16: 184, 33: 696, 10: 113, 7: 89, 20: 262, 12: 131, 35: 816, 21: 282, 27: 447, 15: 149, 23: 362, 11: 134, 6: 61, 4: 41, 5: 59, 9: 103, 13: 128, 3: 26, 14: 159, 8: 69, 0: 8, 2: 20, 1: 15}"
      ],
      "metadata": {
        "id": "_k4NVOonqcz7"
      }
    },
    {
      "cell_type": "code",
      "source": [
        "\n",
        "base_frequency"
      ],
      "metadata": {
        "colab": {
          "base_uri": "https://localhost:8080/"
        },
        "id": "wahKgh74q4oy",
        "outputId": "6d888740-52ed-47b5-f4a0-834fed1d081a"
      },
      "execution_count": 40,
      "outputs": [
        {
          "output_type": "execute_result",
          "data": {
            "text/plain": [
              "{32: 6452809,\n",
              " 31: 6005875,\n",
              " 16: 1896777,\n",
              " 33: 6939037,\n",
              " 35: 8023869,\n",
              " 17: 2070481,\n",
              " 29: 5194847,\n",
              " 10: 1030278,\n",
              " 23: 3344083,\n",
              " 30: 5585624,\n",
              " 26: 4179014,\n",
              " 15: 1734105,\n",
              " 28: 4836335,\n",
              " 27: 4496322,\n",
              " 34: 7461202,\n",
              " 12: 1289463,\n",
              " 8: 792514,\n",
              " 20: 2651665,\n",
              " 25: 3884194,\n",
              " 18: 2253463,\n",
              " 5: 478790,\n",
              " 14: 1578748,\n",
              " 11: 1158709,\n",
              " 13: 1429494,\n",
              " 24: 3606719,\n",
              " 7: 684284,\n",
              " 21: 2872229,\n",
              " 9: 906655,\n",
              " 19: 2445146,\n",
              " 22: 3102148,\n",
              " 6: 579413,\n",
              " 1: 119185,\n",
              " 4: 382944,\n",
              " 2: 202974,\n",
              " 3: 291362,\n",
              " 0: 39243}"
            ]
          },
          "metadata": {},
          "execution_count": 40
        }
      ]
    },
    {
      "cell_type": "code",
      "source": [
        "\n",
        "plt.bar(x=base_frequency.keys(),height=base_frequency.values())\n",
        "plt.show()"
      ],
      "metadata": {
        "colab": {
          "base_uri": "https://localhost:8080/",
          "height": 445
        },
        "id": "aazCxWcIq79_",
        "outputId": "b937407e-a5cb-4f42-d5b8-80753ad2df19"
      },
      "execution_count": 41,
      "outputs": [
        {
          "output_type": "display_data",
          "data": {
            "text/plain": [
              "<Figure size 640x480 with 1 Axes>"
            ],
            "image/png": "[encoded data removed]"
          },
          "metadata": {}
        }
      ]
    }
  ]
}